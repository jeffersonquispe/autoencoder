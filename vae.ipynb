{
 "cells": [
  {
   "cell_type": "markdown",
   "metadata": {},
   "source": [
    "# Variational Autoencoder"
   ]
  },
  {
   "cell_type": "code",
   "execution_count": 1,
   "metadata": {},
   "outputs": [],
   "source": [
    "import numpy as np\n",
    "import tensorflow as tf\n",
    "\n",
    "import matplotlib.pyplot as plt\n",
    "%matplotlib inline\n",
    "\n",
    "np.random.seed(0)\n",
    "tf.set_random_seed(0)"
   ]
  },
  {
   "cell_type": "code",
   "execution_count": 2,
   "metadata": {},
   "outputs": [
    {
     "name": "stdout",
     "output_type": "stream",
     "text": [
      "WARNING:tensorflow:From <ipython-input-2-1eedde87f71e>:2: read_data_sets (from tensorflow.contrib.learn.python.learn.datasets.mnist) is deprecated and will be removed in a future version.\n",
      "Instructions for updating:\n",
      "Please use alternatives such as official/mnist/dataset.py from tensorflow/models.\n",
      "WARNING:tensorflow:From /home/jose/.local/lib/python3.6/site-packages/tensorflow/contrib/learn/python/learn/datasets/mnist.py:260: maybe_download (from tensorflow.contrib.learn.python.learn.datasets.base) is deprecated and will be removed in a future version.\n",
      "Instructions for updating:\n",
      "Please write your own downloading logic.\n",
      "WARNING:tensorflow:From /home/jose/.local/lib/python3.6/site-packages/tensorflow/contrib/learn/python/learn/datasets/mnist.py:262: extract_images (from tensorflow.contrib.learn.python.learn.datasets.mnist) is deprecated and will be removed in a future version.\n",
      "Instructions for updating:\n",
      "Please use tf.data to implement this functionality.\n",
      "Extracting MNIST_data/train-images-idx3-ubyte.gz\n",
      "WARNING:tensorflow:From /home/jose/.local/lib/python3.6/site-packages/tensorflow/contrib/learn/python/learn/datasets/mnist.py:267: extract_labels (from tensorflow.contrib.learn.python.learn.datasets.mnist) is deprecated and will be removed in a future version.\n",
      "Instructions for updating:\n",
      "Please use tf.data to implement this functionality.\n",
      "Extracting MNIST_data/train-labels-idx1-ubyte.gz\n",
      "WARNING:tensorflow:From /home/jose/.local/lib/python3.6/site-packages/tensorflow/contrib/learn/python/learn/datasets/mnist.py:110: dense_to_one_hot (from tensorflow.contrib.learn.python.learn.datasets.mnist) is deprecated and will be removed in a future version.\n",
      "Instructions for updating:\n",
      "Please use tf.one_hot on tensors.\n",
      "Extracting MNIST_data/t10k-images-idx3-ubyte.gz\n",
      "Extracting MNIST_data/t10k-labels-idx1-ubyte.gz\n",
      "WARNING:tensorflow:From /home/jose/.local/lib/python3.6/site-packages/tensorflow/contrib/learn/python/learn/datasets/mnist.py:290: DataSet.__init__ (from tensorflow.contrib.learn.python.learn.datasets.mnist) is deprecated and will be removed in a future version.\n",
      "Instructions for updating:\n",
      "Please use alternatives such as official/mnist/dataset.py from tensorflow/models.\n"
     ]
    }
   ],
   "source": [
    "from tensorflow.examples.tutorials.mnist import input_data\n",
    "mnist = input_data.read_data_sets('MNIST_data', one_hot=True)\n",
    "n_samples = mnist.train.num_examples"
   ]
  },
  {
   "cell_type": "code",
   "execution_count": 3,
   "metadata": {},
   "outputs": [],
   "source": [
    "def xavier_init(fan_in, fan_out, constant=1): \n",
    "    low = -constant*np.sqrt(6.0/(fan_in + fan_out)) \n",
    "    high = constant*np.sqrt(6.0/(fan_in + fan_out))\n",
    "\n",
    "    return tf.random_uniform((fan_in, fan_out), \n",
    "                             minval=low, maxval=high, \n",
    "                             dtype=tf.float32)"
   ]
  },
  {
   "cell_type": "code",
   "execution_count": 4,
   "metadata": {},
   "outputs": [],
   "source": [
    "class VariationalAutoencoder(object):\n",
    "    def __init__(self, network_architecture, transfer_fct=tf.nn.softplus, \n",
    "                 learning_rate=0.001, batch_size=100):\n",
    "        self.network_architecture = network_architecture\n",
    "        self.transfer_fct = transfer_fct\n",
    "        self.learning_rate = learning_rate\n",
    "        self.batch_size = batch_size\n",
    "        \n",
    "        # Input\n",
    "        self.x = tf.placeholder(tf.float32, [None, network_architecture[\"n_input\"]])\n",
    "\n",
    "        self._create_network()\n",
    "        self._create_loss_optimizer()\n",
    "        \n",
    "        init = tf.global_variables_initializer()\n",
    "\n",
    "        # Launch the session\n",
    "        self.sess = tf.InteractiveSession()\n",
    "        self.sess.run(init)\n",
    "    \n",
    "    def getZ(self, X):\n",
    "        z_mean_, z_log_sigma_sq = self.sess.run((self.z_mean, self.z_log_sigma_sq), feed_dict={self.x: X})  \n",
    "        \n",
    "        return z_mean_, z_log_sigma_sq\n",
    "    \n",
    "    def _create_network(self):\n",
    "        # Initialize weights and biases\n",
    "        network_weights = self._initialize_weights(**self.network_architecture)\n",
    "\n",
    "        # Use recognition network to determine mean and \n",
    "        # (log) variance of Gaussian distribution in latent\n",
    "        # space\n",
    "        self.z_mean, self.z_log_sigma_sq = \\\n",
    "            self._recognition_network(network_weights[\"weights_recog\"], \n",
    "                                      network_weights[\"biases_recog\"])\n",
    "        \n",
    "        print(self.z_mean.shape, self.z_log_sigma_sq.shape)\n",
    "        # Draw one sample z from Gaussian distribution\n",
    "        n_z = self.network_architecture[\"n_z\"]\n",
    "        eps = tf.random_normal((self.batch_size, n_z), 0, 1, \n",
    "                               dtype=tf.float32)\n",
    "        # z = mu + sigma*epsilon\n",
    "        self.z = tf.add(self.z_mean, tf.sqrt(tf.exp(self.z_log_sigma_sq)) * eps)\n",
    "\n",
    "        # Use generator to determine mean of\n",
    "        # Bernoulli distribution of reconstructed input\n",
    "        self.x_reconstr_mean = \\\n",
    "            self._generator_network(network_weights[\"weights_gener\"],\n",
    "                                    network_weights[\"biases_gener\"])\n",
    "            \n",
    "    def _initialize_weights(self, n_hidden_recog_1, n_hidden_recog_2, n_hidden_recog_3,\n",
    "                            n_hidden_gener_1,  n_hidden_gener_2, n_hidden_gener_3,\n",
    "                            n_input, n_z):\n",
    "        all_weights = dict()\n",
    "        all_weights['weights_recog'] = {\n",
    "            'h1': tf.Variable(xavier_init(n_input, n_hidden_recog_1)),\n",
    "            'h2': tf.Variable(xavier_init(n_hidden_recog_1, n_hidden_recog_2)),\n",
    "            'h3': tf.Variable(xavier_init(n_hidden_recog_2, n_hidden_recog_3)),\n",
    "            'out_mean': tf.Variable(xavier_init(n_hidden_recog_3, n_z), name = 'out_mean_W'),\n",
    "            'out_log_sigma': tf.Variable(xavier_init(n_hidden_recog_3, n_z), name = 'out_log_sigma_W')}\n",
    "        all_weights['biases_recog'] = {\n",
    "            'b1': tf.Variable(tf.zeros([n_hidden_recog_1], dtype=tf.float32)),\n",
    "            'b2': tf.Variable(tf.zeros([n_hidden_recog_2], dtype=tf.float32)),\n",
    "            'b3': tf.Variable(tf.zeros([n_hidden_recog_3], dtype=tf.float32)),\n",
    "            'out_mean': tf.Variable(tf.zeros([n_z], dtype=tf.float32), name = 'out_mean_b'),\n",
    "            'out_log_sigma': tf.Variable(tf.zeros([n_z], dtype=tf.float32), name = 'out_log_sigma_b')}\n",
    "        all_weights['weights_gener'] = {\n",
    "            'h1': tf.Variable(xavier_init(n_z, n_hidden_gener_1)),\n",
    "            'h2': tf.Variable(xavier_init(n_hidden_gener_1, n_hidden_gener_2)),\n",
    "            'h3': tf.Variable(xavier_init(n_hidden_gener_2, n_hidden_gener_3)),\n",
    "            'out_mean': tf.Variable(xavier_init(n_hidden_gener_3, n_input)),\n",
    "            'out_log_sigma': tf.Variable(xavier_init(n_hidden_gener_3, n_input))}\n",
    "        all_weights['biases_gener'] = {\n",
    "            'b1': tf.Variable(tf.zeros([n_hidden_gener_1], dtype=tf.float32)),\n",
    "            'b2': tf.Variable(tf.zeros([n_hidden_gener_2], dtype=tf.float32)),\n",
    "            'b3': tf.Variable(tf.zeros([n_hidden_gener_3], dtype=tf.float32)),\n",
    "            'out_mean': tf.Variable(tf.zeros([n_input], dtype=tf.float32)),\n",
    "            'out_log_sigma': tf.Variable(tf.zeros([n_input], dtype=tf.float32))}\n",
    "        return all_weights\n",
    "            \n",
    "    def _recognition_network(self, weights, biases):\n",
    "        # Generate probabilistic encoder \n",
    "        \n",
    "        layer_1 = self.transfer_fct(tf.add(tf.matmul(self.x, weights['h1']), \n",
    "                                           biases['b1'])) \n",
    "        layer_2 = self.transfer_fct(tf.add(tf.matmul(layer_1, weights['h2']), \n",
    "                                           biases['b2'])) \n",
    "        layer_3 = self.transfer_fct(tf.add(tf.matmul(layer_2, weights['h3']), \n",
    "                                           biases['b3'])) \n",
    "        \n",
    "        z_mean         = tf.add(tf.matmul(layer_3, weights['out_mean']),\n",
    "                                biases['out_mean'])\n",
    "        \n",
    "        z_log_sigma_sq = tf.add(tf.matmul(layer_3, weights['out_log_sigma']), \n",
    "                                biases['out_log_sigma'])\n",
    "        \n",
    "        return (z_mean, z_log_sigma_sq)\n",
    "\n",
    "    def _generator_network(self, weights, biases):\n",
    "        # Generate probabilistic decoder\n",
    "        \n",
    "        layer_1 = self.transfer_fct(tf.add(tf.matmul(self.z, weights['h1']), \n",
    "                                           biases['b1'])) \n",
    "        layer_2 = self.transfer_fct(tf.add(tf.matmul(layer_1, weights['h2']), \n",
    "                                           biases['b2'])) \n",
    "        layer_3 = self.transfer_fct(tf.add(tf.matmul(layer_2, weights['h3']), \n",
    "                                           biases['b3'])) \n",
    "        \n",
    "        x_reconstr_mean = tf.nn.sigmoid(tf.add(tf.matmul(layer_3, weights['out_mean']), \n",
    "                                        biases['out_mean']))\n",
    "        return x_reconstr_mean\n",
    "            \n",
    "    def _create_loss_optimizer(self):\n",
    "        # Two loss:\n",
    "        #\n",
    "        # 1.) The reconstruction loss (the negative log probability\n",
    "        #     of the input under the reconstructed Bernoulli distribution \n",
    "        #     induced by the decoder in the data space).\n",
    "        #     This can be interpreted as the number of \"nats\" required\n",
    "        #     for reconstructing the input when the activation in latent\n",
    "        #     is given.\n",
    "        \n",
    "        \n",
    "        # Adding 1e-10 to avoid evaluation of log(0.0)\n",
    "        reconstr_loss = \\\n",
    "            -tf.reduce_sum(self.x * tf.log(1e-10 + self.x_reconstr_mean)\n",
    "                           + (1-self.x) * tf.log(1e-10 + 1 - self.x_reconstr_mean),\n",
    "                           1)\n",
    "        \n",
    "        # 2.) The latent loss, which is defined as the Kullback Leibler divergence \n",
    "        ##    between the distribution in latent space induced by the encoder on \n",
    "        #     the data and some prior. This acts as a kind of regularizer.\n",
    "        #     This can be interpreted as the number of \"nats\" required\n",
    "        #     for transmitting the the latent space distribution given\n",
    "        #     the prior.\n",
    "        \n",
    "        latent_loss = -0.5 * tf.reduce_sum(1 + self.z_log_sigma_sq \n",
    "                                           - tf.square(self.z_mean) \n",
    "                                           - tf.exp(self.z_log_sigma_sq), 1)\n",
    "        \n",
    "        # average over batch\n",
    "        self.cost = tf.reduce_mean(reconstr_loss + latent_loss)   \n",
    "        \n",
    "        # Use ADAM optimizer\n",
    "        self.optimizer = \\\n",
    "            tf.train.AdamOptimizer(learning_rate=self.learning_rate).minimize(self.cost)\n",
    "        \n",
    "    def partial_fit(self, X):\n",
    "        opt, cost = self.sess.run((self.optimizer, self.cost), \n",
    "                                  feed_dict={self.x: X})\n",
    "        return cost\n",
    "    \n",
    "    def transform(self, X):\n",
    "        return self.sess.run(self.z_mean, feed_dict={self.x: X})\n",
    "    \n",
    "    def generate(self, z_mu=None):\n",
    "        \"\"\" Generate data by sampling from latent space.\n",
    "        \n",
    "        If z_mu is not None, data for this point in latent space is\n",
    "        generated. Otherwise, z_mu is drawn from prior in latent \n",
    "        space.        \n",
    "        \"\"\"\n",
    "        if z_mu is None:\n",
    "            z_mu = np.random.normal(size=self.network_architecture[\"n_z\"])\n",
    "        \n",
    "        return self.sess.run(self.x_reconstr_mean, \n",
    "                             feed_dict={self.z: z_mu})\n",
    "    \n",
    "    def reconstruct(self, X):\n",
    "        \"\"\" Use VAE to reconstruct given data. \"\"\"\n",
    "        return self.sess.run(self.x_reconstr_mean, \n",
    "                             feed_dict={self.x: X})"
   ]
  },
  {
   "cell_type": "code",
   "execution_count": 5,
   "metadata": {},
   "outputs": [],
   "source": [
    "def train(network_architecture, learning_rate=0.001,\n",
    "          batch_size=100, training_epochs=10, display_step=5):\n",
    "    vae = VariationalAutoencoder(network_architecture, \n",
    "                                 learning_rate=learning_rate, \n",
    "                                 batch_size=batch_size)\n",
    "    # Training cycle\n",
    "    for epoch in range(training_epochs):\n",
    "        avg_cost = 0.\n",
    "        total_batch = int(n_samples / batch_size)\n",
    "        # Loop over all batches\n",
    "        for i in range(total_batch):\n",
    "            batch_xs, _ = mnist.train.next_batch(batch_size)\n",
    "\n",
    "            # Fit training using batch data\n",
    "            cost = vae.partial_fit(batch_xs)\n",
    "            # Compute average loss\n",
    "            avg_cost += cost / n_samples * batch_size\n",
    "\n",
    "        # Display logs per epoch step\n",
    "        if epoch % display_step == 0:\n",
    "            print(\"Epoch:\", '%04d' % (epoch+1), \n",
    "                  \"cost=\", \"{:.9f}\".format(avg_cost))\n",
    "    return vae"
   ]
  },
  {
   "cell_type": "markdown",
   "metadata": {},
   "source": [
    "## Reconstruction quality"
   ]
  },
  {
   "cell_type": "code",
   "execution_count": 6,
   "metadata": {},
   "outputs": [
    {
     "name": "stdout",
     "output_type": "stream",
     "text": [
      "(?, 10) (?, 10)\n",
      "Epoch: 0001 cost= 191.798557906\n",
      "Epoch: 0006 cost= 116.984586820\n",
      "Epoch: 0011 cost= 110.947724235\n",
      "Epoch: 0016 cost= 107.840588601\n",
      "Epoch: 0021 cost= 105.858314625\n",
      "Epoch: 0026 cost= 104.466968467\n",
      "Epoch: 0031 cost= 103.424920543\n",
      "Epoch: 0036 cost= 102.665690973\n",
      "Epoch: 0041 cost= 102.042000067\n",
      "Epoch: 0046 cost= 101.510464658\n"
     ]
    }
   ],
   "source": [
    "network_architecture = \\\n",
    "    dict(n_hidden_recog_1=400, # 1st layer encoder neurons\n",
    "         n_hidden_recog_2=200, # 2nd layer encoder neurons\n",
    "         n_hidden_recog_3=100, # 3th layer encoder neurons\n",
    "         n_hidden_gener_1=100, # 1st layer decoder neurons\n",
    "         n_hidden_gener_2=200, # 2nd layer decoder neurons\n",
    "         n_hidden_gener_3=400, # 3th layer decoder neurons\n",
    "         n_input=784,          # MNIST data input (img shape: 28*28)\n",
    "         n_z=10)               # dimensionality of latent space\n",
    "\n",
    "vae = train(network_architecture, training_epochs=50)"
   ]
  },
  {
   "cell_type": "code",
   "execution_count": 7,
   "metadata": {},
   "outputs": [],
   "source": [
    "def getImagefromDataset(num):\n",
    "    xs, ys = mnist.train.next_batch(1000)\n",
    "    \n",
    "    xs_l = []\n",
    "    \n",
    "    for i in range(1000):\n",
    "        if np.argmax(ys[i]) == num:\n",
    "            xs_l.append(xs[i])\n",
    "    \n",
    "    return xs_l"
   ]
  },
  {
   "cell_type": "code",
   "execution_count": 8,
   "metadata": {},
   "outputs": [],
   "source": [
    "def getParams(num):\n",
    "    imgsX    = getImagefromDataset(num)\n",
    "    \n",
    "    k       = len(imgsX)\n",
    "    \n",
    "    mu_t, sig_t = 0.0, 0.0\n",
    "    \n",
    "    for i in range(k):       \n",
    "        mu, sig = vae.getZ([imgsX[i]])   \n",
    "        mu_t   += mu\n",
    "        sig_t  += np.sqrt(np.exp(sig))\n",
    "    \n",
    "    return mu_t/k, sig_t/k"
   ]
  },
  {
   "cell_type": "code",
   "execution_count": 9,
   "metadata": {},
   "outputs": [],
   "source": [
    "def generateParameters():\n",
    "    CLASSES = 10\n",
    "    params  = []\n",
    "    for i in range(CLASSES):\n",
    "        mu, sigma = getParams(i)\n",
    "        params.append([mu, sigma])\n",
    "    return params"
   ]
  },
  {
   "cell_type": "code",
   "execution_count": 10,
   "metadata": {},
   "outputs": [],
   "source": [
    "M = generateParameters()"
   ]
  },
  {
   "cell_type": "code",
   "execution_count": 85,
   "metadata": {},
   "outputs": [],
   "source": [
    "def getImgFromVAE(inum):\n",
    "    eps     = np.random.normal( -1, 1,(1, 10))\n",
    "    z_      = M[inum][0] + M[inum][1] * eps\n",
    "    z_mu    = np.array([z_[0]]*vae.batch_size)\n",
    "    x_mean  = vae.generate(z_mu)\n",
    "    img     = x_mean[0].reshape(28,28)\n",
    "    \n",
    "    return img"
   ]
  },
  {
   "cell_type": "code",
   "execution_count": 86,
   "metadata": {},
   "outputs": [],
   "source": [
    "def getListOfNumbers(sNUM):\n",
    "    res = []\n",
    "    for i in range(len(sNUM)):\n",
    "        img = getImgFromVAE(int(sNUM[i]))\n",
    "        res.append(img)\n",
    "    return res"
   ]
  },
  {
   "cell_type": "code",
   "execution_count": 13,
   "metadata": {},
   "outputs": [
    {
     "name": "stdout",
     "output_type": "stream",
     "text": [
      "Enter a number : 58793\n"
     ]
    }
   ],
   "source": [
    "NUM = input(\"Enter a number : \")"
   ]
  },
  {
   "cell_type": "code",
   "execution_count": 14,
   "metadata": {},
   "outputs": [],
   "source": [
    "input_imgs = getListOfNumbers(NUM)"
   ]
  },
  {
   "cell_type": "code",
   "execution_count": 15,
   "metadata": {},
   "outputs": [
    {
     "data": {
      "text/plain": [
       "<matplotlib.image.AxesImage at 0x7eff9b8ef400>"
      ]
     },
     "execution_count": 15,
     "metadata": {},
     "output_type": "execute_result"
    },
    {
     "data": {
      "image/png": "[encoded data removed]",
      "text/plain": [
       "<Figure size 432x288 with 1 Axes>"
      ]
     },
     "metadata": {
      "needs_background": "light"
     },
     "output_type": "display_data"
    }
   ],
   "source": [
    "plt.imshow(input_imgs[0], cmap='gray')"
   ]
  },
  {
   "cell_type": "markdown",
   "metadata": {},
   "source": [
    "# Captcha Generator"
   ]
  },
  {
   "cell_type": "code",
   "execution_count": 109,
   "metadata": {},
   "outputs": [],
   "source": [
    "from random import randint\n",
    "import random\n",
    "import cv2\n",
    "\n",
    "def rotate(img):\n",
    "    sign=randint(-20,20)%2\n",
    "    if sign==0:\n",
    "        sign=-1   \n",
    "\n",
    "    col = img.shape[0]    \n",
    "    row = img.shape[1]    \n",
    "    angle=(randint(1,100)%60)*sign\n",
    "    img_center=tuple(np.array([row,col])/2)\n",
    "    rot_mat = cv2.getRotationMatrix2D(img_center, angle,1)\n",
    "    result = cv2.warpAffine(img, rot_mat, (col,row), flags=cv2.INTER_LINEAR)\n",
    "    return result\n",
    "\n",
    "def erosion(img,kernel):\n",
    "    return cv2.erode(img,kernel,iterations = 1)\n",
    "\n",
    "def dilation(img,kernel):\n",
    "    return cv2.dilate(img,kernel,iterations = 2)\n",
    " \n",
    "def opening(img,kernel):\n",
    "    return cv2.morphologyEx(img, cv2.MORPH_OPEN, kernel)\n",
    " \n",
    "def closing(img,kernel):\n",
    "    return cv2.morphologyEx(img, cv2.MORPH_CLOSE, kernel)\n",
    " \n",
    "def gradient(img,kernel):\n",
    "    return cv2.morphologyEx(img, cv2.MORPH_GRADIENT, kernel)\n",
    " \n",
    "def morphology(img):\n",
    "    dade=randint(1,5)    \n",
    "    kernel = np.ones((2,2),np.uint8)\n",
    "    switcher = {\n",
    "        1: erosion(img,kernel),\n",
    "        2: dilation(img,kernel),\n",
    "        3: opening(img,kernel),\n",
    "        4: closing(img,kernel),\n",
    "        5: gradient(img,kernel),\n",
    "    }\n",
    "    result = switcher.get(dade, lambda: \"Invalid\")\n",
    "    return result\n",
    "\n",
    "def scale(img):\n",
    "    height=28\n",
    "    width=28\n",
    "    height = ( ( randint(1,2000) % 20 ) * -1 ) + height;\n",
    "    width  = ( ( randint(1,2000) % 20 ) * -1 ) + width;\n",
    "    result = cv2.resize(img,(height,width),interpolation=cv2.INTER_CUBIC)\n",
    "    return result \n",
    "\n",
    "def traslation(img):\n",
    "    rows,cols = img.shape\n",
    "    pts1 = np.float32([[0,0],[0,rows],[cols,0],[rows,cols]])\n",
    "    varWidth=rows/2\n",
    "    varHeight=cols/2\n",
    "    widthWarp=rows-varWidth+(randint(0,100)%varWidth)\n",
    "    heightWarp=cols-varHeight+(randint(0,100)%varHeight)\n",
    "    \n",
    "    pts2 = np.float32([[0,0],[rows,0],[0,cols],[widthWarp,heightWarp]])\n",
    "\n",
    "    M = cv2.getPerspectiveTransform(pts1,pts2)\n",
    "\n",
    "    dst = cv2.warpPerspective(img,M,(28,28))\n",
    "    return dst\n",
    "\n",
    "\n",
    "def addLines(image):\n",
    "    from random import randint\n",
    "    numLines=randint(5, 10) \n",
    "    \n",
    "    W = image.shape[0]\n",
    "    for x in range(0,numLines):\n",
    "        startX = randint(0, W*5) % image.shape[1];\n",
    "        endX   = randint(0, W*5) % image.shape[1];\n",
    "        startY = randint(0, W*5) % image.shape[0];\n",
    "        endY   = randint(0, W*5) % image.shape[0];\n",
    "        lines  = cv2.line(image,(startX,startY),(endX,endY), randint(100, 200) ,randint(3, 5))\n",
    "    return lines \n",
    "\n",
    "def sp_noise(image,prob):\n",
    "\n",
    "    output = np.zeros(image.shape,np.uint8)\n",
    "    thres = 1 - prob \n",
    "    for i in range(image.shape[0]):\n",
    "        for j in range(image.shape[1]):\n",
    "            rdn = random.random()\n",
    "            if rdn < prob:\n",
    "                output[i][j] = 0\n",
    "            elif rdn > thres:\n",
    "                output[i][j] = 255\n",
    "            else:\n",
    "                output[i][j] = image[i][j]\n",
    "    return output\n",
    "\n",
    "\n",
    "def addNoise(image):   \n",
    "    numNoise = randint(50, 100) \n",
    "    print(numNoise)\n",
    "    for x in range(0,numNoise):\n",
    "        #image=img\n",
    "        i = randint(0, 28)  % image.shape[0];\n",
    "        j = randint(0, 28*5)% image.shape[1];\n",
    "        radius = randint(0,0)\n",
    "        noise  = cv2.circle(image,(j,i),radius, randint(100, 200), -1)      \n",
    "    return noise"
   ]
  },
  {
   "cell_type": "code",
   "execution_count": 110,
   "metadata": {},
   "outputs": [],
   "source": [
    "backtorgb = []\n",
    "\n",
    "for k in range(len(input_imgs)):\n",
    "    norm = cv2.normalize(input_imgs[k], None,0, 255, cv2.NORM_MINMAX)\n",
    "    #for i in range(0,28):\n",
    "    #    for j in range(0,28):\n",
    "    #        norm[i][j]=255.0-norm[i][j]\n",
    "    #backtorgb.append(cv2.cvtColor(norm,cv2.COLOR_GRAY2RGB))\n",
    "    backtorgb.append(norm)\n",
    "    #plt.imshow(norm, cmap='gray')\n",
    "    #plt.show()        "
   ]
  },
  {
   "cell_type": "code",
   "execution_count": 111,
   "metadata": {},
   "outputs": [
    {
     "data": {
      "text/plain": [
       "(28, 28)"
      ]
     },
     "execution_count": 111,
     "metadata": {},
     "output_type": "execute_result"
    }
   ],
   "source": [
    "backtorgb[0].shape"
   ]
  },
  {
   "cell_type": "code",
   "execution_count": 112,
   "metadata": {},
   "outputs": [
    {
     "name": "stdout",
     "output_type": "stream",
     "text": [
      "91\n"
     ]
    },
    {
     "data": {
      "image/png": "[encoded data removed]",
      "text/plain": [
       "<Figure size 432x288 with 1 Axes>"
      ]
     },
     "metadata": {
      "needs_background": "light"
     },
     "output_type": "display_data"
    }
   ],
   "source": [
    "captcha=[]\n",
    "for i in range(len(backtorgb)):\n",
    "    traslation(backtorgb[i])\n",
    "    captcha.append(morphology(rotate(backtorgb[i])))\n",
    "\n",
    "vis = np.concatenate((captcha), axis=1)\n",
    "noise_img = addNoise(vis)\n",
    "\n",
    "noise_img_res = cv2.resize(noise_img, (0,0), fx=10, fy=10) \n",
    "lines         = addLines(noise_img_res)\n",
    "plt.imshow(lines,cmap=\"gray\")\n",
    "plt.show()"
   ]
  }
 ],
 "metadata": {
  "kernelspec": {
   "display_name": "Python 3",
   "language": "python",
   "name": "python3"
  },
  "language_info": {
   "codemirror_mode": {
    "name": "ipython",
    "version": 3
   },
   "file_extension": ".py",
   "mimetype": "text/x-python",
   "name": "python",
   "nbconvert_exporter": "python",
   "pygments_lexer": "ipython3",
   "version": "3.6.7"
  }
 },
 "nbformat": 4,
 "nbformat_minor": 1
}
